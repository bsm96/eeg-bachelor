{
 "cells": [
  {
   "cell_type": "markdown",
   "id": "6aed48e4",
   "metadata": {},
   "source": [
    "### 1: Setup & file inventory"
   ]
  },
  {
   "cell_type": "code",
   "execution_count": 1,
   "id": "5f443f2d",
   "metadata": {},
   "outputs": [
    {
     "name": "stdout",
     "output_type": "stream",
     "text": [
      "Repo root: l:\\AuditData\\CONNECT-ME\\Bjoern\\eeg-bachelor\n",
      "Found 28 FIF files and 161 EDF files.\n",
      "\n",
      "Examples (FIF):\n",
      "   data\\used_raws\\patient10_raw.fif\n",
      "   data\\used_raws\\patient11_raw.fif\n",
      "   data\\used_raws\\patient12_raw.fif\n",
      "   data\\used_raws\\patient13_raw.fif\n",
      "   data\\used_raws\\patient14_raw.fif\n",
      "   data\\used_raws\\patient15_raw.fif\n",
      "   data\\used_raws\\patient16_raw.fif\n",
      "   data\\used_raws\\patient17_raw.fif\n",
      "\n",
      "Examples (EDF):\n",
      "   EDF filer\\01CX-EDF+.edf\n",
      "   EDF filer\\01CX-EDF+1.edf\n",
      "   EDF filer\\02IT-EDF+.edf\n",
      "   EDF filer\\03TN-EDF+.edf\n",
      "   EDF filer\\03TN-EDF+1.edf\n",
      "   EDF filer\\03TN-EDF+2.edf\n",
      "   EDF filer\\03TN-EDF+3.edf\n",
      "   EDF filer\\03TN-EDF+4.edf\n",
      "\n",
      "Next-step candidates:\n",
      "  FIF: l:\\AuditData\\CONNECT-ME\\Bjoern\\eeg-bachelor\\data\\used_raws\\patient10_raw.fif\n",
      "  EDF: l:\\AuditData\\CONNECT-ME\\Bjoern\\eeg-bachelor\\EDF filer\\01CX-EDF+.edf\n"
     ]
    }
   ],
   "source": [
    "from pathlib import Path\n",
    "\n",
    "def find_repo_root(start: Path) -> Path:\n",
    "    \"\"\"\n",
    "    Walk upwards until we find a reasonable project root marker (.git, pyproject.toml or README.md).\n",
    "    Falls back to the current working directory if nothing is found.\n",
    "    \"\"\"\n",
    "    for p in [start, *start.parents]:\n",
    "        if (p / \".git\").exists() or (p / \"pyproject.toml\").exists() or (p / \"README.md\").exists():\n",
    "            return p\n",
    "    return start\n",
    "\n",
    "# Resolve project root\n",
    "ROOT = find_repo_root(Path.cwd())\n",
    "print(\"Repo root:\", ROOT)\n",
    "\n",
    "PROCESSED_DIRS = [\n",
    "    ROOT / \"data\",\n",
    "    ROOT / \"data\" / \"Raws_new_ica\",\n",
    "]\n",
    "\n",
    "processed_files = []\n",
    "for d in PROCESSED_DIRS:\n",
    "    if d.exists():\n",
    "        processed_files += sorted([p for p in d.rglob(\"*.fif\") if p.is_file()])\n",
    "\n",
    "# Likely locations for original EDF files (adjust if needed)\n",
    "CANDIDATE_EDF_DIRS = [\n",
    "    ROOT / \"EDF filer\",\n",
    "]\n",
    "\n",
    "edf_files = []\n",
    "for d in CANDIDATE_EDF_DIRS:\n",
    "    if d.exists():\n",
    "        edf_files += sorted([p for p in d.rglob(\"*.edf\") if p.is_file()])\n",
    "\n",
    "print(f\"Found {len(processed_files)} FIF files and {len(edf_files)} EDF files.\")\n",
    "\n",
    "# Show a small preview\n",
    "print(\"\\nExamples (FIF):\")\n",
    "for p in processed_files[:8]:\n",
    "    try:\n",
    "        print(\"  \", p.relative_to(ROOT))\n",
    "    except ValueError:\n",
    "        print(\"  \", p)\n",
    "\n",
    "print(\"\\nExamples (EDF):\")\n",
    "for p in edf_files[:8]:\n",
    "    try:\n",
    "        print(\"  \", p.relative_to(ROOT))\n",
    "    except ValueError:\n",
    "        print(\"  \", p)\n",
    "\n",
    "# Keep single candidates for the next step\n",
    "RAW_FIF_CANDIDATE = processed_files[0] if processed_files else None\n",
    "RAW_EDF_CANDIDATE = edf_files[0] if edf_files else None\n",
    "print(\"\\nNext-step candidates:\")\n",
    "print(\"  FIF:\", RAW_FIF_CANDIDATE)\n",
    "print(\"  EDF:\", RAW_EDF_CANDIDATE)"
   ]
  },
  {
   "cell_type": "markdown",
   "id": "4a4120c1",
   "metadata": {},
   "source": [
    "### 2: Load processed FIF and print a compact summary"
   ]
  },
  {
   "cell_type": "code",
   "execution_count": null,
   "id": "1198871f",
   "metadata": {},
   "outputs": [],
   "source": []
  }
 ],
 "metadata": {
  "kernelspec": {
   "display_name": "eeg_env",
   "language": "python",
   "name": "python3"
  },
  "language_info": {
   "codemirror_mode": {
    "name": "ipython",
    "version": 3
   },
   "file_extension": ".py",
   "mimetype": "text/x-python",
   "name": "python",
   "nbconvert_exporter": "python",
   "pygments_lexer": "ipython3",
   "version": "3.12.11"
  }
 },
 "nbformat": 4,
 "nbformat_minor": 5
}
